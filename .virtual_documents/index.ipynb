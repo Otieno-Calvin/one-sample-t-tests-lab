


import matplotlib.pyplot as plt
import seaborn as sns
import numpy as np
import 



def one_sample_ttest(sample, popmean, alpha):

    # Visualize sample distribution for normality 
    
    fig, ax = plt.subplots()
    ax = sns.kdeplot(sample, ax=ax, label='')
    ax.legend();
    
    # Population mean 
    pop_mean= popmean    
    # Sample mean (x̄) using NumPy mean()
    sample_mean=sample.mean
    # Sample Standard Deviation (sigma) using Numpy
    std= np.std(sample)
    # Degrees of freedom
    df=sample_mean-1
    
    # Calculate the critical t-valuere
    critic_t_val=stats.t.ppf((1-0.95),df=df)
    
    # Calculate the t-value and p-value
    results=stats.ttest_lsamp(a=sample,popmean=pop_mean)    
    # return results
    return results








sample=[84.0, 92.4, 74.3, 79.4, 86.7, 75.3, 90.9, 86.1, 81.0, 85.1,
        78.7, 73.5, 86.9, 87.4, 82.7, 81.9, 69.9, 77.2, 79.3, 83.3]







